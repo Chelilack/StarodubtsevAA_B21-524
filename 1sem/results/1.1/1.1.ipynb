{
 "cells": [
  {
   "cell_type": "code",
   "execution_count": 1,
   "metadata": {},
   "outputs": [],
   "source": [
    "#1.1 laba\n",
    "import numpy as np\n",
    "from PIL import Image as pim\n",
    "from IPython.display import Image\n",
    "import os\n",
    "\n",
    "def Interpolation(srcPath,outPath,scale):\n",
    "    print(\"begin\")\n",
    "    input_image = pim.open(srcPath)\n",
    "    input_array = np.array(input_image)\n",
    "    H, W = input_array.shape[:2]\n",
    "    new_H = H * scale \n",
    "    new_W = W * scale \n",
    "    \n",
    "    output_array = np.zeros((new_H, new_W, input_array.shape[2]), dtype=input_array.dtype)\n",
    "    for y in range(new_H):\n",
    "        for x in range(new_W):\n",
    "            # Вычисление координат в исходном изображении\n",
    "            old_y = y // scale\n",
    "            old_x = x // scale \n",
    "            # Копирование значения пикселя\n",
    "        output_array[y, x] = input_array[old_y, old_x]\n",
    "    output_image = pim.fromarray(output_array)\n",
    "    output_image.save('resampled_image.png')\n",
    "    output_image.show()\n",
    "    print(\"end\")"
   ]
  },
  {
   "cell_type": "code",
   "execution_count": null,
   "metadata": {},
   "outputs": [],
   "source": [
    "#1.2 \n",
    "def Compression(srcPath,outPath,scale):\n",
    "    print(\"begin\")\n",
    "    input_image = pim.open(srcPath)\n",
    "    input_array = np.array(input_image)\n",
    "    H, W = input_array.shape[:2]\n",
    "    new_H = H // scale \n",
    "    new_W = W // scale \n",
    "    \n",
    "    output_array = np.zeros((new_H, new_W, input_array.shape[2]), dtype=input_array.dtype)\n",
    "    for y in range(new_H):\n",
    "        for x in range(new_W):\n",
    "            # Вычисление координат в исходном изображении\n",
    "            old_y = y * scale\n",
    "            old_x = x * scale \n",
    "            # Копирование значения пикселя\n",
    "        output_array[y, x] = input_array[old_y, old_x]\n",
    "    output_image = pim.fromarray(output_array)\n",
    "    output_image.save('resampled_image.png')\n",
    "    output_image.show()\n",
    "    print(\"end\")"
   ]
  },
  {
   "cell_type": "code",
   "execution_count": 2,
   "metadata": {},
   "outputs": [],
   "source": [
    "#1.3\n",
    "def OversamplingTwoSteps(srcPath,outPath,interpolationScale,compressionScale):\n",
    "    print(\"begin\")\n",
    "    temp_path = \"temp_resized.png\"\n",
    "    Interpolation(srcPath,temp_path,interpolationScale)\n",
    "    Compression(temp_path,outPath,compressionScale)\n",
    "\n",
    "    if os.path.exists(temp_path):\n",
    "        os.remove(temp_path)\n",
    "    print(\"end\")"
   ]
  },
  {
   "cell_type": "code",
   "execution_count": null,
   "metadata": {},
   "outputs": [],
   "source": [
    "def Oversampling(srcPath,outPath,scale):\n",
    "    print(\"begin\")\n",
    "    input_image = pim.open(srcPath)\n",
    "    input_array = np.array(input_image)\n",
    "    H, W = input_array.shape[:2]\n",
    "    new_H = H * scale \n",
    "    new_W = W * scale\n",
    "    \n",
    "    output_array = np.zeros((new_H, new_W, input_array.shape[2]), dtype=input_array.dtype)\n",
    "    for y in range(new_H):\n",
    "        for x in range(new_W):\n",
    "            # Вычисление координат в исходном изображении\n",
    "            old_y = y // scale\n",
    "            old_x = x // scale\n",
    "            # Копирование значения пикселя\n",
    "        output_array[y, x] = input_array[old_y, old_x]\n",
    "    output_image = pim.fromarray(output_array)\n",
    "    output_image.save('resampled_image.png')\n",
    "    output_image.show()\n",
    "    print(\"end\")"
   ]
  }
 ],
 "metadata": {
  "kernelspec": {
   "display_name": "Python 3",
   "language": "python",
   "name": "python3"
  },
  "language_info": {
   "codemirror_mode": {
    "name": "ipython",
    "version": 3
   },
   "file_extension": ".py",
   "mimetype": "text/x-python",
   "name": "python",
   "nbconvert_exporter": "python",
   "pygments_lexer": "ipython3",
   "version": "3.12.3"
  }
 },
 "nbformat": 4,
 "nbformat_minor": 2
}
