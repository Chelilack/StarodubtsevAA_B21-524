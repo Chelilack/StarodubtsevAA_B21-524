{
 "cells": [
  {
   "cell_type": "code",
   "execution_count": 2,
   "metadata": {},
   "outputs": [],
   "source": [
    "from PIL import Image, ImageDraw, ImageFont\n",
    "import os\n"
   ]
  },
  {
   "cell_type": "code",
   "execution_count": 3,
   "metadata": {},
   "outputs": [
    {
     "name": "stdout",
     "output_type": "stream",
     "text": [
      "Cropped and saved: output\\string.bmp\n"
     ]
    }
   ],
   "source": [
    "def crop_and_replace_images_in_folder(folder_path):\n",
    "    # Проходим по всем файлам в папке\n",
    "    for filename in os.listdir(folder_path):\n",
    "        if filename.lower().endswith(('.png', '.jpg', '.jpeg', '.bmp', '.gif', '.tiff')):\n",
    "            # Строим полный путь к файлу\n",
    "            file_path = os.path.join(folder_path, filename)\n",
    "            # Загружаем изображение\n",
    "            image = Image.open(file_path)\n",
    "            # Конвертируем изображение в режим \"L\" для работы с оттенками серого\n",
    "            image = image.convert('L')\n",
    "            # Применяем пороговое преобразование для создания бинарного изображения\n",
    "            binary_image = image.point(lambda x: 255 if x > 128 else 0, '1')\n",
    "            # Получаем границы ненулевых (черных) пикселей\n",
    "            pixels = binary_image.load()\n",
    "            width, height = binary_image.size\n",
    "\n",
    "            min_x, min_y = width, height\n",
    "            max_x, max_y = 0, 0\n",
    "\n",
    "            # Находим границы черных пикселей\n",
    "            for x in range(width):\n",
    "                for y in range(height):\n",
    "                    if pixels[x, y] == 0:  # Черные пиксели в режиме '1' остаются как 0 после порога\n",
    "                        min_x = min(min_x, x)\n",
    "                        min_y = min(min_y, y)\n",
    "                        max_x = max(max_x, x)\n",
    "                        max_y = max(max_y, y)\n",
    "\n",
    "            # Проверяем, были ли найдены черные пиксели\n",
    "            if min_x < max_x and min_y < max_y:\n",
    "                # Обрезаем изображение\n",
    "                image = image.crop((min_x, min_y, max_x + 1, max_y + 1))\n",
    "                image.save(file_path)\n",
    "                print(f\"Cropped and saved: {file_path}\")\n",
    "\n",
    "# Путь к папке с исходными изображениями\n",
    "folder_path = 'output'\n",
    "\n",
    "# Вызываем функцию\n",
    "crop_and_replace_images_in_folder(folder_path)"
   ]
  },
  {
   "cell_type": "code",
   "execution_count": null,
   "metadata": {},
   "outputs": [],
   "source": []
  }
 ],
 "metadata": {
  "kernelspec": {
   "display_name": "Python 3",
   "language": "python",
   "name": "python3"
  },
  "language_info": {
   "codemirror_mode": {
    "name": "ipython",
    "version": 3
   },
   "file_extension": ".py",
   "mimetype": "text/x-python",
   "name": "python",
   "nbconvert_exporter": "python",
   "pygments_lexer": "ipython3",
   "version": "3.12.3"
  }
 },
 "nbformat": 4,
 "nbformat_minor": 2
}
