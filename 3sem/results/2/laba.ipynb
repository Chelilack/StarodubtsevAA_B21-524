{
 "cells": [
  {
   "cell_type": "code",
   "execution_count": 4,
   "metadata": {},
   "outputs": [],
   "source": [
    "from PIL import Image\n",
    "import numpy as np\n",
    "import cv2 \n",
    "import os\n",
    "\n",
    "def erosion(image_path, output_path, structuring_element):\n",
    "    # Загрузка изображения\n",
    "    img = Image.open(image_path)\n",
    "    img_array = np.array(img)\n",
    "    if len(img_array.shape) == 3:\n",
    "        img_array = cv2.cvtColor(img_array, cv2.COLOR_RGB2GRAY)\n",
    "\n",
    "    image_height, image_width = img_array.shape\n",
    "    height, width = structuring_element.shape\n",
    "    edge_h, edge_w = height // 2, width // 2\n",
    "\n",
    "    # Создаем изображение для результата\n",
    "    eroded_image = np.zeros_like(img_array)\n",
    "\n",
    "    # Применяем эрозию\n",
    "    for i in range(edge_h, image_height - edge_h):\n",
    "        for j in range(edge_w, image_width - edge_w):\n",
    "            # Подматрица текущего окна\n",
    "            local_area = img_array[i - edge_h:i + edge_h + 1, j - edge_w:j + edge_w + 1]\n",
    "            # Находим минимальное значение в локальной области\n",
    "            min_value = np.min(local_area[structuring_element == 1])\n",
    "            # Присваиваем минимальное значение центральному пикселю\n",
    "            eroded_image[i, j] = min_value\n",
    "\n",
    "    # Сохранение результата\n",
    "    diff_image = np.abs(img_array - eroded_image)\n",
    "    result = Image.fromarray(diff_image)\n",
    "    result.save(output_path)\n",
    "\n",
    "\n",
    "\n"
   ]
  },
  {
   "cell_type": "code",
   "execution_count": 5,
   "metadata": {},
   "outputs": [],
   "source": [
    "def convert_all_images_in_folder(input_folder, output_folder,structuring_element):\n",
    "    if not os.path.exists(output_folder):\n",
    "        os.makedirs(output_folder)\n",
    "    \n",
    "    for filename in os.listdir(input_folder):\n",
    "        if filename.lower().endswith(('.png', '.jpg', '.jpeg', '.bmp', '.gif', '.tiff')):\n",
    "            input_path = os.path.join(input_folder, filename)\n",
    "            output_path = os.path.join(output_folder, os.path.splitext(filename)[0] + '.bmp')\n",
    "            erosion(input_path, output_path,structuring_element)\n",
    "            print(f\"Converted {input_path} to {output_path}\")\n",
    "            "
   ]
  },
  {
   "cell_type": "code",
   "execution_count": 7,
   "metadata": {},
   "outputs": [
    {
     "name": "stdout",
     "output_type": "stream",
     "text": [
      "Converted ../input\\1.bmp to output\\1.bmp\n",
      "Converted ../input\\2.bmp to output\\2.bmp\n",
      "Converted ../input\\3.bmp to output\\3.bmp\n",
      "Converted ../input\\4.bmp to output\\4.bmp\n"
     ]
    }
   ],
   "source": [
    "structuring_element = np.array([\n",
    "    [1, 1, 1],\n",
    "    [1, 1, 1],\n",
    "    [1, 1, 1]\n",
    "])\n",
    "convert_all_images_in_folder(\"../input\",\"output\",structuring_element)"
   ]
  },
  {
   "cell_type": "code",
   "execution_count": null,
   "metadata": {},
   "outputs": [],
   "source": []
  }
 ],
 "metadata": {
  "kernelspec": {
   "display_name": "Python 3",
   "language": "python",
   "name": "python3"
  },
  "language_info": {
   "codemirror_mode": {
    "name": "ipython",
    "version": 3
   },
   "file_extension": ".py",
   "mimetype": "text/x-python",
   "name": "python",
   "nbconvert_exporter": "python",
   "pygments_lexer": "ipython3",
   "version": "3.12.3"
  }
 },
 "nbformat": 4,
 "nbformat_minor": 2
}
