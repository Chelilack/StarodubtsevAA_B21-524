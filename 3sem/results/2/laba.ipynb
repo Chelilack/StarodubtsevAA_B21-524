{
 "cells": [
  {
   "cell_type": "code",
   "execution_count": null,
   "metadata": {},
   "outputs": [],
   "source": [
    "from PIL import Image\n",
    "import numpy as np\n",
    "import cv2 \n",
    "\n",
    "def erosion(image_path, output_path, structuring_element):\n",
    "    # Загрузка изображения\n",
    "    img = Image.open(image_path)\n",
    "    img_array = np.array(img)\n",
    "\n",
    "    image_height, image_width = img_array.shape\n",
    "    height, width = structuring_element.shape\n",
    "    edge_h, edge_w = height // 2, width // 2\n",
    "\n",
    "    # Создаем изображение для результата\n",
    "    eroded_image = np.zeros_like(img_array)\n",
    "\n",
    "    # Применяем эрозию\n",
    "    for i in range(edge_h, image_height - edge_h):\n",
    "        for j in range(edge_w, image_width - edge_w):\n",
    "            # Подматрица текущего окна\n",
    "            local_area = img_array[i - edge_h:i + edge_h + 1, j - edge_w:j + edge_w + 1]\n",
    "            # Находим минимальное значение в локальной области\n",
    "            min_value = np.min(local_area[structuring_element == 1])\n",
    "            # Присваиваем минимальное значение центральному пикселю\n",
    "            eroded_image[i, j] = min_value\n",
    "\n",
    "    # Сохранение результата\n",
    "    diff_image = np.abs(img_array - eroded_image)\n",
    "    result = Image.fromarray(diff_image)\n",
    "    result.save(output_path)\n",
    "\n",
    "# Пример структурирующего элемента\n",
    "structuring_element = np.array([\n",
    "    [0, 1, 0],\n",
    "    [1, 1, 1],\n",
    "    [0, 1, 0]\n",
    "])\n",
    "\n",
    "# Вызов функции\n",
    "erosion(\"path_to_your_image.jpg\", \"eroded_image.png\", structuring_element)"
   ]
  }
 ],
 "metadata": {
  "language_info": {
   "name": "python"
  }
 },
 "nbformat": 4,
 "nbformat_minor": 2
}
