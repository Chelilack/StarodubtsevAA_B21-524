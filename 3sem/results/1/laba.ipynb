{
 "cells": [
  {
   "cell_type": "code",
   "execution_count": null,
   "metadata": {},
   "outputs": [],
   "source": [
    "import numpy as np\n",
    "from PIL import Image\n",
    "import cv2\n",
    "\n",
    "def erosion(image_path, output_path, structuring_element):\n",
    "    # Получаем размеры изображения и структурирующего элемента\n",
    "    img = Image.open(image_path)\n",
    "    img_array = np.array(img)\n",
    "    if len(img_array.shape) == 3:\n",
    "        # Преобразование в черно-белое изображение, если это цветное\n",
    "        image_np = cv2.cvtColor(img_array, cv2.COLOR_BGR2GRAY)\n",
    "        \n",
    "    image_height, image_width = img_array.shape\n",
    "    height, width = structuring_element.shape\n",
    "    edge_h, edge_w = height // 2, width // 2\n",
    "\n",
    "    # Создаем изображение для результата\n",
    "    eroded_image = np.zeros_like(img_array)\n",
    "\n",
    "    # Применяем эрозию\n",
    "    for i in range(edge_h, image_height - edge_h):\n",
    "        for j in range(edge_w, image_width - edge_w):\n",
    "            # Подматрица текущего окна\n",
    "            local_area = img_array[i - edge_h:i + edge_h + 1, j - edge_w:j + edge_w + 1]\n",
    "            # Применяем структурирующий элемент\n",
    "            if np.all(local_area[structuring_element == 1] == 1):\n",
    "                eroded_image[i, j] = 1\n",
    "                \n",
    "    result = Image.fromarray(eroded_image)\n",
    "    result.convert('L').save(output_path)\n",
    "\n",
    "\n",
    "# Определение структурирующего элемента \n",
    "structuring_element = np.array([[1, 1, 1], [1, 1, 1], [1, 1, 1]])\n"
   ]
  }
 ],
 "metadata": {
  "language_info": {
   "name": "python"
  }
 },
 "nbformat": 4,
 "nbformat_minor": 2
}
