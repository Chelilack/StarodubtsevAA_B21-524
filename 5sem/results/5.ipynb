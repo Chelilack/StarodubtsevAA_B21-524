{
 "cells": [
  {
   "cell_type": "code",
   "execution_count": 10,
   "metadata": {},
   "outputs": [],
   "source": [
    "import numpy as np\n",
    "from PIL import Image\n",
    "import os\n",
    "import csv\n",
    "import matplotlib.pyplot as plt"
   ]
  },
  {
   "cell_type": "code",
   "execution_count": 2,
   "metadata": {},
   "outputs": [],
   "source": [
    "def calculate_black_mass(image_array):\n",
    "    height, width = image_array.shape\n",
    "    half_height, half_width = height // 2, width // 2\n",
    "\n",
    "    quarters = [\n",
    "        image_array[:half_height, :half_width],    # Верхняя левая четверть\n",
    "        image_array[:half_height, half_width:],    # Верхняя правая четверть\n",
    "        image_array[half_height:, :half_width],    # Нижняя левая четверть\n",
    "        image_array[half_height:, half_width:]     # Нижняя правая четверть\n",
    "    ]\n",
    "\n",
    "    black_masses = [np.sum(quarter == 0) for quarter in quarters]\n",
    "    return black_masses"
   ]
  },
  {
   "cell_type": "code",
   "execution_count": 3,
   "metadata": {},
   "outputs": [],
   "source": [
    "def calculate_normalized_black_mass(image_array, black_masses):\n",
    "    height, width = image_array.shape\n",
    "    quarter_area = (height // 2) * (width // 2)\n",
    "    normalized_black_masses = [mass / quarter_area for mass in black_masses]\n",
    "    return normalized_black_masses"
   ]
  },
  {
   "cell_type": "code",
   "execution_count": 4,
   "metadata": {},
   "outputs": [],
   "source": [
    "def calculate_center_of_gravity(image_array):\n",
    "    black_pixels = np.argwhere(image_array == 0)\n",
    "    if len(black_pixels) == 0:\n",
    "        return (0, 0)\n",
    "    \n",
    "    center_of_gravity = np.mean(black_pixels, axis=0)\n",
    "    return tuple(center_of_gravity)"
   ]
  },
  {
   "cell_type": "code",
   "execution_count": 5,
   "metadata": {},
   "outputs": [],
   "source": [
    "def calculate_normalized_center_of_gravity(image_array, center_of_gravity):\n",
    "    height, width = image_array.shape\n",
    "    normalized_center_of_gravity = (\n",
    "        center_of_gravity[0] / height,\n",
    "        center_of_gravity[1] / width\n",
    "    )\n",
    "    return normalized_center_of_gravity"
   ]
  },
  {
   "cell_type": "code",
   "execution_count": 6,
   "metadata": {},
   "outputs": [],
   "source": [
    "def calculate_moments_of_inertia(image_array, center_of_gravity):\n",
    "    height, width = image_array.shape\n",
    "    y_center, x_center = center_of_gravity\n",
    "\n",
    "    y_indices, x_indices = np.indices((height, width))\n",
    "    y_indices = y_indices - y_center\n",
    "    x_indices = x_indices - x_center\n",
    "\n",
    "    horizontal_moment = np.sum((image_array == 0) * (x_indices ** 2))\n",
    "    vertical_moment = np.sum((image_array == 0) * (y_indices ** 2))\n",
    "\n",
    "    return horizontal_moment, vertical_moment"
   ]
  },
  {
   "cell_type": "code",
   "execution_count": 7,
   "metadata": {},
   "outputs": [],
   "source": [
    "def calculate_normalized_moments_of_inertia(image_array, moments_of_inertia):\n",
    "    height, width = image_array.shape\n",
    "    area = height * width\n",
    "\n",
    "    normalized_horizontal_moment = moments_of_inertia[0] / area\n",
    "    normalized_vertical_moment = moments_of_inertia[1] / area\n",
    "\n",
    "    return normalized_horizontal_moment, normalized_vertical_moment"
   ]
  },
  {
   "cell_type": "code",
   "execution_count": 8,
   "metadata": {},
   "outputs": [],
   "source": [
    "def calculate_profiles(image_array):\n",
    "    profile_x = np.sum(image_array == 0, axis=0)\n",
    "    profile_y = np.sum(image_array == 0, axis=1)\n",
    "    return profile_x, profile_y"
   ]
  },
  {
   "cell_type": "code",
   "execution_count": 17,
   "metadata": {},
   "outputs": [],
   "source": [
    "def save_profiles(profile, filename):\n",
    "    plt.figure()\n",
    "    plt.bar(range(len(profile)), profile)\n",
    "    plt.xlabel('Index')\n",
    "    plt.ylabel('Count')\n",
    "    plt.savefig(filename)\n",
    "    plt.close()"
   ]
  },
  {
   "cell_type": "code",
   "execution_count": 19,
   "metadata": {},
   "outputs": [],
   "source": [
    "def process_images_in_folder(folder_path, csv_path, profile_folder):\n",
    "    features = []\n",
    "\n",
    "    for filename in os.listdir(folder_path):\n",
    "        if filename.lower().endswith(('.png', '.jpg', '.jpeg', '.bmp', '.gif', '.tiff')):\n",
    "            file_path = os.path.join(folder_path, filename)\n",
    "            image = Image.open(file_path).convert('L')\n",
    "            image_array = np.array(image)\n",
    "\n",
    "            black_masses = calculate_black_mass(image_array)\n",
    "            normalized_black_masses = calculate_normalized_black_mass(image_array, black_masses)\n",
    "            center_of_gravity = calculate_center_of_gravity(image_array)\n",
    "            normalized_center_of_gravity = calculate_normalized_center_of_gravity(image_array, center_of_gravity)\n",
    "            moments_of_inertia = calculate_moments_of_inertia(image_array, center_of_gravity)\n",
    "            normalized_moments_of_inertia = calculate_normalized_moments_of_inertia(image_array, moments_of_inertia)\n",
    "            profile_x, profile_y = calculate_profiles(image_array)\n",
    "\n",
    "            features.append({\n",
    "                \"filename\": filename,\n",
    "                \"black_masses\": black_masses,\n",
    "                \"normalized_black_masses\": normalized_black_masses,\n",
    "                \"center_of_gravity\": center_of_gravity,\n",
    "                \"normalized_center_of_gravity\": normalized_center_of_gravity,\n",
    "                \"moments_of_inertia\": moments_of_inertia,\n",
    "                \"normalized_moments_of_inertia\": normalized_moments_of_inertia,\n",
    "                \"profile_x\": profile_x.tolist(),\n",
    "                \"profile_y\": profile_y.tolist()\n",
    "            })\n",
    "        profile_x_path = os.path.join(profile_folder, f\"{filename}_profile_x.png\")\n",
    "        profile_y_path = os.path.join(profile_folder, f\"{filename}_profile_y.png\")\n",
    "        save_profiles(profile_x, profile_x_path)\n",
    "        save_profiles(profile_y, profile_y_path)\n",
    "    with open(csv_path, 'w', newline='', encoding='utf-8') as csvfile:\n",
    "        fieldnames = [\n",
    "            'filename',\n",
    "            'black_mass_quarter_1', 'black_mass_quarter_2', 'black_mass_quarter_3', 'black_mass_quarter_4',\n",
    "            'normalized_black_mass_quarter_1', 'normalized_black_mass_quarter_2', 'normalized_black_mass_quarter_3', 'normalized_black_mass_quarter_4',\n",
    "            'center_of_gravity_x', 'center_of_gravity_y',\n",
    "            'normalized_center_of_gravity_x', 'normalized_center_of_gravity_y',\n",
    "            'horizontal_moment_of_inertia', 'vertical_moment_of_inertia',\n",
    "            'normalized_horizontal_moment_of_inertia', 'normalized_vertical_moment_of_inertia'\n",
    "        ]\n",
    "        writer = csv.DictWriter(csvfile, fieldnames=fieldnames, delimiter=';')\n",
    "        writer.writeheader()\n",
    "        for feature in features:\n",
    "            row = {\n",
    "                'filename': feature['filename'],\n",
    "                'black_mass_quarter_1': feature['black_masses'][0],\n",
    "                'black_mass_quarter_2': feature['black_masses'][1],\n",
    "                'black_mass_quarter_3': feature['black_masses'][2],\n",
    "                'black_mass_quarter_4': feature['black_masses'][3],\n",
    "                'normalized_black_mass_quarter_1': feature['normalized_black_masses'][0],\n",
    "                'normalized_black_mass_quarter_2': feature['normalized_black_masses'][1],\n",
    "                'normalized_black_mass_quarter_3': feature['normalized_black_masses'][2],\n",
    "                'normalized_black_mass_quarter_4': feature['normalized_black_masses'][3],\n",
    "                'center_of_gravity_x': feature['center_of_gravity'][0],\n",
    "                'center_of_gravity_y': feature['center_of_gravity'][1],\n",
    "                'normalized_center_of_gravity_x': feature['normalized_center_of_gravity'][0],\n",
    "                'normalized_center_of_gravity_y': feature['normalized_center_of_gravity'][1],\n",
    "                'horizontal_moment_of_inertia': feature['moments_of_inertia'][0],\n",
    "                'vertical_moment_of_inertia': feature['moments_of_inertia'][1],\n",
    "                'normalized_horizontal_moment_of_inertia': feature['normalized_moments_of_inertia'][0],\n",
    "                'normalized_vertical_moment_of_inertia': feature['normalized_moments_of_inertia'][1]\n",
    "            }\n",
    "            writer.writerow(row)\n",
    "    "
   ]
  },
  {
   "cell_type": "code",
   "execution_count": 21,
   "metadata": {},
   "outputs": [],
   "source": [
    "# Путь к папке с изображениями\n",
    "folder_path = '../../symbols'\n",
    "\n",
    "# Вызываем функцию обработки изображений\n",
    "process_images_in_folder(folder_path,'output/output.csv','output')"
   ]
  },
  {
   "cell_type": "code",
   "execution_count": null,
   "metadata": {},
   "outputs": [],
   "source": []
  }
 ],
 "metadata": {
  "kernelspec": {
   "display_name": "Python 3",
   "language": "python",
   "name": "python3"
  },
  "language_info": {
   "codemirror_mode": {
    "name": "ipython",
    "version": 3
   },
   "file_extension": ".py",
   "mimetype": "text/x-python",
   "name": "python",
   "nbconvert_exporter": "python",
   "pygments_lexer": "ipython3",
   "version": "3.12.3"
  }
 },
 "nbformat": 4,
 "nbformat_minor": 2
}
