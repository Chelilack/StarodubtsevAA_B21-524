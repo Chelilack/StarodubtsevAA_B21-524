{
 "cells": [
  {
   "cell_type": "code",
   "execution_count": 3,
   "metadata": {},
   "outputs": [],
   "source": [
    "from PIL import Image as pim\n",
    "import numpy as np\n",
    "import os \n",
    "def convert_to_grayscale(image_path):\n",
    "    \n",
    "    img = pim.open(image_path).convert('RGB')\n",
    "    grayscale_img = pim.new(\"L\", img.size)\n",
    "    for x in range(img.width):\n",
    "        for y in range(img.height):\n",
    "            r, g, b = img.getpixel((x, y))\n",
    "            gray = int(0.2989 * r + 0.5870 * g + 0.1140 * b)\n",
    "            grayscale_img.putpixel((x, y), gray)\n",
    "    return grayscale_img\n",
    "    \n",
    "def niblack_thresholding(image_path, output_path, window_size=15, k=-0.2):\n",
    "    # Получение изображения в градациях серого\n",
    "    grayscale_img = convert_to_grayscale(image_path)\n",
    "    print(\"start\")\n",
    "    img_array = np.array(grayscale_img, dtype=np.float64)\n",
    "\n",
    "    # Размеры изображения\n",
    "    rows, cols = img_array.shape\n",
    "    new_image = np.zeros((rows, cols), dtype=np.uint8)\n",
    "\n",
    "    # Расчетные границы для обработки изображения с учетом окна\n",
    "    edge = window_size // 2\n",
    "\n",
    "    # Перебор каждого пикселя для расчета локального среднего и стандартного отклонения\n",
    "    for i in range(edge, rows - edge):\n",
    "        for j in range(edge, cols - edge):\n",
    "            # Локальная область вокруг пикселя\n",
    "            local = img_array[i - edge:i + edge + 1, j - edge:j + edge + 1]\n",
    "            # Локальное среднее\n",
    "            local_mean = np.mean(local)\n",
    "            # Локальное стандартное отклонение\n",
    "            local_std = np.std(local)\n",
    "            # Порог Ниблэка\n",
    "            threshold = local_mean + k * local_std\n",
    "            # Бинаризация\n",
    "            if img_array[i, j] > threshold:\n",
    "                new_image[i, j] = 255\n",
    "            else:\n",
    "                new_image[i, j] = 0\n",
    "\n",
    "    # Создание и сохранение бинаризованного изображения\n",
    "    binary_image = pim.fromarray(new_image)\n",
    "    binary_image.save(output_path)\n",
    "    print(\"end\")"
   ]
  },
  {
   "cell_type": "code",
   "execution_count": 4,
   "metadata": {},
   "outputs": [],
   "source": [
    "def convert_all_images_in_folder(input_folder, output_folder):\n",
    "    if not os.path.exists(output_folder):\n",
    "        os.makedirs(output_folder)\n",
    "    \n",
    "    for filename in os.listdir(input_folder):\n",
    "        if filename.lower().endswith(('.png', '.jpg', '.jpeg', '.bmp', '.gif', '.tiff')):\n",
    "            input_path = os.path.join(input_folder, filename)\n",
    "            output_path = os.path.join(output_folder, os.path.splitext(filename)[0] + '.bmp')\n",
    "            niblack_thresholding(input_path, output_path)\n",
    "            print(f\"Converted {input_path} to {output_path}\")"
   ]
  },
  {
   "cell_type": "code",
   "execution_count": 5,
   "metadata": {},
   "outputs": [
    {
     "name": "stdout",
     "output_type": "stream",
     "text": [
      "start\n",
      "end\n",
      "Converted ../input\\198_153.png to output\\198_153.bmp\n",
      "start\n",
      "end\n",
      "Converted ../input\\ded.png to output\\ded.bmp\n",
      "start\n",
      "end\n",
      "Converted ../input\\finger.png to output\\finger.bmp\n",
      "start\n",
      "end\n",
      "Converted ../input\\karta.png to output\\karta.bmp\n",
      "start\n",
      "end\n",
      "Converted ../input\\photo.png to output\\photo.bmp\n",
      "start\n",
      "end\n",
      "Converted ../input\\rentgen.png to output\\rentgen.bmp\n"
     ]
    }
   ],
   "source": [
    "convert_all_images_in_folder(\"../input\",\"output\")"
   ]
  },
  {
   "cell_type": "code",
   "execution_count": null,
   "metadata": {},
   "outputs": [],
   "source": []
  }
 ],
 "metadata": {
  "kernelspec": {
   "display_name": "Python 3",
   "language": "python",
   "name": "python3"
  },
  "language_info": {
   "codemirror_mode": {
    "name": "ipython",
    "version": 3
   },
   "file_extension": ".py",
   "mimetype": "text/x-python",
   "name": "python",
   "nbconvert_exporter": "python",
   "pygments_lexer": "ipython3",
   "version": "3.12.3"
  }
 },
 "nbformat": 4,
 "nbformat_minor": 2
}
