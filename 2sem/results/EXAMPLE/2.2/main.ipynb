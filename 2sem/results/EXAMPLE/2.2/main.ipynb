{
 "cells": [
  {
   "cell_type": "code",
   "execution_count": 1,
   "metadata": {},
   "outputs": [
    {
     "name": "stdout",
     "output_type": "stream",
     "text": [
      "begin\n",
      "end\n"
     ]
    }
   ],
   "source": [
    "from PIL import Image as pim\n",
    "import numpy as np\n",
    "\n",
    "def convert_to_grayscale(image_path):\n",
    "    \n",
    "    img = pim.open(image_path)\n",
    "    grayscale_img = pim.new(\"L\", img.size)\n",
    "    for x in range(img.width):\n",
    "        for y in range(img.height):\n",
    "            r, g, b = img.getpixel((x, y))\n",
    "            gray = int(0.2989 * r + 0.5870 * g + 0.1140 * b)\n",
    "            grayscale_img.putpixel((x, y), gray)\n",
    "    return grayscale_img\n",
    "    \n",
    "def niblack_thresholding(image_path, output_path, window_size=15, k=-0.2):\n",
    "    # Получение изображения в градациях серого\n",
    "    grayscale_img = convert_to_grayscale(image_path)\n",
    "    print(\"start\")\n",
    "    img_array = np.array(grayscale_img, dtype=np.float64)\n",
    "\n",
    "    # Размеры изображения\n",
    "    rows, cols = img_array.shape\n",
    "    new_image = np.zeros((rows, cols), dtype=np.uint8)\n",
    "\n",
    "    # Расчетные границы для обработки изображения с учетом окна\n",
    "    edge = window_size // 2\n",
    "\n",
    "    # Перебор каждого пикселя для расчета локального среднего и стандартного отклонения\n",
    "    for i in range(edge, rows - edge):\n",
    "        for j in range(edge, cols - edge):\n",
    "            # Локальная область вокруг пикселя\n",
    "            local = img_array[i - edge:i + edge + 1, j - edge:j + edge + 1]\n",
    "            # Локальное среднее\n",
    "            local_mean = np.mean(local)\n",
    "            # Локальное стандартное отклонение\n",
    "            local_std = np.std(local)\n",
    "            # Порог Ниблэка\n",
    "            threshold = local_mean + k * local_std\n",
    "            # Бинаризация\n",
    "            if img_array[i, j] > threshold:\n",
    "                new_image[i, j] = 255\n",
    "            else:\n",
    "                new_image[i, j] = 0\n",
    "\n",
    "    # Создание и сохранение бинаризованного изображения\n",
    "    binary_image = pim.fromarray(new_image)\n",
    "    binary_image.save(output_path)\n",
    "    print(\"end\")\n",
    "    \n",
    "niblack_thresholding(\"../../input/84_3.png\",\"output/84_3.bmp\")"
   ]
  },
  {
   "cell_type": "code",
   "execution_count": null,
   "metadata": {},
   "outputs": [],
   "source": []
  }
 ],
 "metadata": {
  "kernelspec": {
   "display_name": "Python 3",
   "language": "python",
   "name": "python3"
  },
  "language_info": {
   "codemirror_mode": {
    "name": "ipython",
    "version": 3
   },
   "file_extension": ".py",
   "mimetype": "text/x-python",
   "name": "python",
   "nbconvert_exporter": "python",
   "pygments_lexer": "ipython3",
   "version": "3.12.3"
  }
 },
 "nbformat": 4,
 "nbformat_minor": 2
}
