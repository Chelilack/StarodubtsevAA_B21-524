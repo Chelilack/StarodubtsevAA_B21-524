{
 "cells": [
  {
   "cell_type": "code",
   "execution_count": 6,
   "metadata": {},
   "outputs": [],
   "source": [
    "from PIL import Image as pim\n",
    "import numpy as np\n",
    "import os\n",
    "\n",
    "def convert_to_grayscale(image_path, output_path):\n",
    "    print(\"start\")\n",
    "    img = pim.open(image_path).convert('RGB')\n",
    "    grayscale_img = pim.new(\"L\", img.size)\n",
    "    for x in range(img.width):\n",
    "        for y in range(img.height):\n",
    "            r, g, b = img.getpixel((x, y))\n",
    "            gray = int(0.2989 * r + 0.5870 * g + 0.1140 * b)\n",
    "            grayscale_img.putpixel((x, y), gray)\n",
    "    grayscale_img.save(output_path)\n",
    "    print(\"finished\")"
   ]
  },
  {
   "cell_type": "code",
   "execution_count": 7,
   "metadata": {},
   "outputs": [],
   "source": [
    "def convert_all_images_in_folder(input_folder, output_folder):\n",
    "    if not os.path.exists(output_folder):\n",
    "        os.makedirs(output_folder)\n",
    "    \n",
    "    for filename in os.listdir(input_folder):\n",
    "        if filename.lower().endswith(('.png', '.jpg', '.jpeg', '.bmp', '.gif', '.tiff')):\n",
    "            input_path = os.path.join(input_folder, filename)\n",
    "            output_path = os.path.join(output_folder, os.path.splitext(filename)[0] + '.bmp')\n",
    "            convert_to_grayscale(input_path, output_path)\n",
    "            print(f\"Converted {input_path} to {output_path}\")"
   ]
  },
  {
   "cell_type": "code",
   "execution_count": 8,
   "metadata": {},
   "outputs": [
    {
     "name": "stdout",
     "output_type": "stream",
     "text": [
      "start\n",
      "finished\n",
      "Converted ../input\\198_153.png to output\\198_153.bmp\n",
      "start\n",
      "finished\n",
      "Converted ../input\\ded.png to output\\ded.bmp\n",
      "start\n",
      "finished\n",
      "Converted ../input\\finger.png to output\\finger.bmp\n",
      "start\n",
      "finished\n",
      "Converted ../input\\karta.png to output\\karta.bmp\n",
      "start\n",
      "finished\n",
      "Converted ../input\\photo.png to output\\photo.bmp\n",
      "start\n",
      "finished\n",
      "Converted ../input\\rentgen.png to output\\rentgen.bmp\n"
     ]
    }
   ],
   "source": [
    "convert_all_images_in_folder(\"../input\",\"output\")"
   ]
  },
  {
   "cell_type": "code",
   "execution_count": null,
   "metadata": {},
   "outputs": [],
   "source": []
  }
 ],
 "metadata": {
  "kernelspec": {
   "display_name": "Python 3",
   "language": "python",
   "name": "python3"
  },
  "language_info": {
   "codemirror_mode": {
    "name": "ipython",
    "version": 3
   },
   "file_extension": ".py",
   "mimetype": "text/x-python",
   "name": "python",
   "nbconvert_exporter": "python",
   "pygments_lexer": "ipython3",
   "version": "3.12.3"
  }
 },
 "nbformat": 4,
 "nbformat_minor": 2
}
