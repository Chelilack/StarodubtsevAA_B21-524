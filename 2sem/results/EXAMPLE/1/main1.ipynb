{
 "cells": [
  {
   "cell_type": "code",
   "execution_count": 1,
   "metadata": {},
   "outputs": [
    {
     "name": "stdout",
     "output_type": "stream",
     "text": [
      "start\n",
      "finished\n"
     ]
    }
   ],
   "source": [
    "from PIL import Image as pim\n",
    "import numpy as np\n",
    "\n",
    "def convert_to_grayscale(image_path, output_path):\n",
    "    print(\"start\")\n",
    "    img = pim.open(image_path)\n",
    "    grayscale_img = pim.new(\"L\", img.size)\n",
    "    for x in range(img.width):\n",
    "        for y in range(img.height):\n",
    "            r, g, b = img.getpixel((x, y))\n",
    "            gray = int(0.2989 * r + 0.5870 * g + 0.1140 * b)\n",
    "            grayscale_img.putpixel((x, y), gray)\n",
    "    grayscale_img.save(output_path)\n",
    "    print(\"finished\")\n",
    "\n",
    "convert_to_grayscale(\"../../input/84_3.png\",\"output/84_3.bmp\")"
   ]
  },
  {
   "cell_type": "code",
   "execution_count": null,
   "metadata": {},
   "outputs": [],
   "source": []
  }
 ],
 "metadata": {
  "kernelspec": {
   "display_name": "Python 3",
   "language": "python",
   "name": "python3"
  },
  "language_info": {
   "codemirror_mode": {
    "name": "ipython",
    "version": 3
   },
   "file_extension": ".py",
   "mimetype": "text/x-python",
   "name": "python",
   "nbconvert_exporter": "python",
   "pygments_lexer": "ipython3",
   "version": "3.12.3"
  }
 },
 "nbformat": 4,
 "nbformat_minor": 2
}
